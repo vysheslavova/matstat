{
 "cells": [
  {
   "cell_type": "code",
   "execution_count": 1,
   "metadata": {},
   "outputs": [],
   "source": [
    "import numpy as np\n",
    "from scipy import stats"
   ]
  },
  {
   "cell_type": "markdown",
   "metadata": {},
   "source": [
    "# ДЗ-1"
   ]
  },
  {
   "cell_type": "code",
   "execution_count": 2,
   "metadata": {},
   "outputs": [],
   "source": [
    "n = 3.9e+5\n",
    "v_2018 = np.array([3.85, 31.13, 32.96, 29.92, 2.13]) * n * 0.01\n",
    "v_2017 = np.array([7.92, 36.16, 25.09, 27.49, 3.34]) * n * 0.01"
   ]
  },
  {
   "cell_type": "code",
   "execution_count": 3,
   "metadata": {},
   "outputs": [
    {
     "name": "stdout",
     "output_type": "stream",
     "text": [
      "Полученное значение: 12561.32965928641\n"
     ]
    }
   ],
   "source": [
    "p = (v_2018 + v_2017) / (2 * n)\n",
    "val1 = (v_2018 - n * p) ** 2 / (n * p)\n",
    "val2 = (v_2017 - n * p) ** 2 / (n * p)\n",
    "value = sum(val1 + val2)\n",
    "print('Полученное значение:', value)"
   ]
  },
  {
   "cell_type": "code",
   "execution_count": 4,
   "metadata": {},
   "outputs": [
    {
     "name": "stdout",
     "output_type": "stream",
     "text": [
      "Критическое значение хи-квадрат: 9.487729036781154\n"
     ]
    }
   ],
   "source": [
    "critical_value = stats.chi2.ppf(0.95, 4)\n",
    "print('Критическое значение хи-квадрат:', critical_value)"
   ]
  },
  {
   "cell_type": "code",
   "execution_count": 5,
   "metadata": {},
   "outputs": [
    {
     "data": {
      "text/plain": [
       "False"
      ]
     },
     "execution_count": 5,
     "metadata": {},
     "output_type": "execute_result"
    }
   ],
   "source": [
    "value < critical_value"
   ]
  },
  {
   "cell_type": "markdown",
   "metadata": {},
   "source": [
    "Отвергаем гипотезу $H_0$"
   ]
  },
  {
   "cell_type": "markdown",
   "metadata": {},
   "source": [
    "# ДЗ-2"
   ]
  },
  {
   "cell_type": "code",
   "execution_count": 6,
   "metadata": {},
   "outputs": [],
   "source": [
    "families = [527, 476, 1017]\n",
    "num_boys = [2, 0, 1]\n",
    "n = 2020"
   ]
  },
  {
   "cell_type": "code",
   "execution_count": 7,
   "metadata": {},
   "outputs": [
    {
     "name": "stdout",
     "output_type": "stream",
     "text": [
      "Возможное значение p в биномиальном распределении: 0.5126237623762376\n"
     ]
    }
   ],
   "source": [
    "prob = sum([family * boys for family, boys in zip(families, num_boys)]) / (n * 2)\n",
    "print('Возможное значение p в биномиальном распределении:', prob)"
   ]
  },
  {
   "cell_type": "code",
   "execution_count": 8,
   "metadata": {},
   "outputs": [
    {
     "name": "stdout",
     "output_type": "stream",
     "text": [
      "Полученное значение: 0.11584637539956494\n"
     ]
    }
   ],
   "source": [
    "value = 0\n",
    "p = [n * prob ** 2, n * (1 - prob) ** 2, n * 2 * prob * (1 - prob)]\n",
    "for x, y in zip(families, p):\n",
    "    value += (x - y) ** 2 / y\n",
    "print('Полученное значение:', value)"
   ]
  },
  {
   "cell_type": "code",
   "execution_count": 9,
   "metadata": {},
   "outputs": [
    {
     "name": "stdout",
     "output_type": "stream",
     "text": [
      "Критическое значение хи-квадрат: 3.841458820694124\n"
     ]
    }
   ],
   "source": [
    "critical_value = stats.chi2.ppf(0.95, 1)\n",
    "print('Критическое значение хи-квадрат:', critical_value)"
   ]
  },
  {
   "cell_type": "code",
   "execution_count": 10,
   "metadata": {},
   "outputs": [
    {
     "data": {
      "text/plain": [
       "True"
      ]
     },
     "execution_count": 10,
     "metadata": {},
     "output_type": "execute_result"
    }
   ],
   "source": [
    "value < critical_value"
   ]
  },
  {
   "cell_type": "markdown",
   "metadata": {},
   "source": [
    "Не отвергаем гипотезу $H_0$"
   ]
  }
 ],
 "metadata": {
  "kernelspec": {
   "display_name": "Python 3",
   "language": "python",
   "name": "python3"
  },
  "language_info": {
   "codemirror_mode": {
    "name": "ipython",
    "version": 3
   },
   "file_extension": ".py",
   "mimetype": "text/x-python",
   "name": "python",
   "nbconvert_exporter": "python",
   "pygments_lexer": "ipython3",
   "version": "3.6.5"
  }
 },
 "nbformat": 4,
 "nbformat_minor": 2
}
